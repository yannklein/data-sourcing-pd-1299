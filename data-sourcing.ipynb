{
 "cells": [
  {
   "cell_type": "markdown",
   "id": "ae3a7195-3088-4f2e-8385-4c632c93d1bd",
   "metadata": {},
   "source": [
    "# Data sourcing"
   ]
  },
  {
   "cell_type": "code",
   "execution_count": 2,
   "id": "04735426-a40e-448a-aef4-60779ea02623",
   "metadata": {},
   "outputs": [],
   "source": [
    "%load_ext autoreload\n",
    "%autoreload 2"
   ]
  },
  {
   "cell_type": "code",
   "execution_count": 3,
   "id": "1e07112a-b408-4b96-882e-e74e158fb07a",
   "metadata": {},
   "outputs": [],
   "source": [
    "import matplotlib\n",
    "%matplotlib inline\n",
    "import numpy as np\n",
    "import pandas as pd"
   ]
  },
  {
   "cell_type": "markdown",
   "id": "9cfe3d2b-3b21-4bbb-89e5-333254122db4",
   "metadata": {},
   "source": [
    "## 1️⃣ CSV"
   ]
  },
  {
   "cell_type": "code",
   "execution_count": 4,
   "id": "20da8a68-ead4-446e-8438-edd9f02b6001",
   "metadata": {},
   "outputs": [
    {
     "data": {
      "text/html": [
       "<div>\n",
       "<style scoped>\n",
       "    .dataframe tbody tr th:only-of-type {\n",
       "        vertical-align: middle;\n",
       "    }\n",
       "\n",
       "    .dataframe tbody tr th {\n",
       "        vertical-align: top;\n",
       "    }\n",
       "\n",
       "    .dataframe thead th {\n",
       "        text-align: right;\n",
       "    }\n",
       "</style>\n",
       "<table border=\"1\" class=\"dataframe\">\n",
       "  <thead>\n",
       "    <tr style=\"text-align: right;\">\n",
       "      <th></th>\n",
       "      <th>name</th>\n",
       "      <th>artists</th>\n",
       "    </tr>\n",
       "  </thead>\n",
       "  <tbody>\n",
       "    <tr>\n",
       "      <th>0</th>\n",
       "      <td>Shape of You</td>\n",
       "      <td>Ed Sheeran</td>\n",
       "    </tr>\n",
       "    <tr>\n",
       "      <th>1</th>\n",
       "      <td>Despacito - Remix</td>\n",
       "      <td>Luis Fonsi</td>\n",
       "    </tr>\n",
       "    <tr>\n",
       "      <th>2</th>\n",
       "      <td>Despacito (Featuring Daddy Yankee)</td>\n",
       "      <td>Luis Fonsi</td>\n",
       "    </tr>\n",
       "    <tr>\n",
       "      <th>3</th>\n",
       "      <td>Something Just Like This</td>\n",
       "      <td>The Chainsmokers</td>\n",
       "    </tr>\n",
       "    <tr>\n",
       "      <th>4</th>\n",
       "      <td>I'm the One</td>\n",
       "      <td>DJ Khaled</td>\n",
       "    </tr>\n",
       "  </tbody>\n",
       "</table>\n",
       "</div>"
      ],
      "text/plain": [
       "                                 name           artists\n",
       "0                        Shape of You        Ed Sheeran\n",
       "1                   Despacito - Remix        Luis Fonsi\n",
       "2  Despacito (Featuring Daddy Yankee)        Luis Fonsi\n",
       "3            Something Just Like This  The Chainsmokers\n",
       "4                         I'm the One         DJ Khaled"
      ]
     },
     "execution_count": 4,
     "metadata": {},
     "output_type": "execute_result"
    }
   ],
   "source": [
    "tracks_df = pd.read_csv('data/spotify_2017.csv')\n",
    "tracks_df[['name', 'artists']].head()"
   ]
  },
  {
   "cell_type": "markdown",
   "id": "1017ffd9-3e15-4f16-b00e-c725c56c3b50",
   "metadata": {},
   "source": [
    "## 2️⃣ API"
   ]
  },
  {
   "cell_type": "code",
   "execution_count": 5,
   "id": "a35ec62a-1809-41bc-b784-fd1efacba41a",
   "metadata": {},
   "outputs": [],
   "source": [
    "from music import fetch_lyrics"
   ]
  },
  {
   "cell_type": "code",
   "execution_count": 6,
   "id": "baf595cd-cdbd-498f-9626-0fa0d0bae42d",
   "metadata": {},
   "outputs": [
    {
     "data": {
      "text/plain": [
       "'No Data'"
      ]
     },
     "execution_count": 6,
     "metadata": {},
     "output_type": "execute_result"
    }
   ],
   "source": [
    "fetch_lyrics(\"Ed Sheeran\", \"Shape of Me\")"
   ]
  },
  {
   "cell_type": "code",
   "execution_count": 7,
   "id": "64649f02-993f-4e53-9685-d0f3bdbe83a1",
   "metadata": {},
   "outputs": [
    {
     "data": {
      "text/plain": [
       "\"The club isn't the best place to find a lover\\nSo the bar is where I go (mmmm)\\nMe and my friends at t\""
      ]
     },
     "execution_count": 7,
     "metadata": {},
     "output_type": "execute_result"
    }
   ],
   "source": [
    "fetch_lyrics(\"Ed Sheeran\", \"Shape of You\")[0:100]"
   ]
  },
  {
   "cell_type": "code",
   "execution_count": 8,
   "id": "80e6509e-8bfa-4c95-8cfe-1033736730f6",
   "metadata": {},
   "outputs": [
    {
     "name": "stdout",
     "output_type": "stream",
     "text": [
      "0 Shape of You Ed Sheeran\n",
      "1 Despacito - Remix Luis Fonsi\n",
      "2 Despacito (Featuring Daddy Yankee) Luis Fonsi\n",
      "3 Something Just Like This The Chainsmokers\n",
      "4 I'm the One DJ Khaled\n",
      "5 HUMBLE. Kendrick Lamar\n",
      "6 It Ain't Me (with Selena Gomez) Kygo\n",
      "7 Unforgettable French Montana\n",
      "8 That's What I Like Bruno Mars\n",
      "9 I Don’t Wanna Live Forever (Fifty Shades Darker) - From \"Fifty Shades Darker (Original Motion Picture Soundtrack)\" ZAYN\n",
      "10 XO TOUR Llif3 Lil Uzi Vert\n",
      "11 Paris The Chainsmokers\n",
      "12 Stay (with Alessia Cara) Zedd\n",
      "13 Attention Charlie Puth\n",
      "14 Mask Off Future\n",
      "15 Congratulations Post Malone\n",
      "16 Swalla (feat. Nicki Minaj & Ty Dolla $ign) Jason Derulo\n",
      "17 Castle on the Hill Ed Sheeran\n",
      "18 Rockabye (feat. Sean Paul & Anne-Marie) Clean Bandit\n",
      "19 Believer Imagine Dragons\n",
      "20 Mi Gente J Balvin\n",
      "21 Thunder Imagine Dragons\n",
      "22 Say You Won't Let Go James Arthur\n",
      "23 There's Nothing Holdin' Me Back Shawn Mendes\n",
      "24 Me Rehúso Danny Ocean\n",
      "25 Issues Julia Michaels\n",
      "26 Galway Girl Ed Sheeran\n",
      "27 Scared to Be Lonely Martin Garrix\n",
      "28 Closer The Chainsmokers\n",
      "29 Symphony (feat. Zara Larsson) Clean Bandit\n",
      "30 I Feel It Coming The Weeknd\n",
      "31 Starboy The Weeknd\n",
      "32 Wild Thoughts DJ Khaled\n",
      "33 Slide Calvin Harris\n",
      "34 New Rules Dua Lipa\n",
      "35 1-800-273-8255 Logic\n",
      "36 Passionfruit Drake\n",
      "37 rockstar Post Malone\n",
      "38 Strip That Down Liam Payne\n",
      "39 2U (feat. Justin Bieber) David Guetta\n",
      "40 Perfect Ed Sheeran\n",
      "41 Call On Me - Ryan Riback Extended Remix Starley\n",
      "42 Feels Calvin Harris\n",
      "43 Mama Jonas Blue\n",
      "44 Felices los 4 Maluma\n",
      "45 iSpy (feat. Lil Yachty) KYLE\n",
      "46 Location Khalid\n",
      "47 Chantaje Shakira\n",
      "48 Bad and Boujee (feat. Lil Uzi Vert) Migos\n",
      "49 Havana Camila Cabello\n",
      "50 Solo Dance Martin Jensen\n",
      "51 Fake Love Drake\n",
      "52 Let Me Love You DJ Snake\n",
      "53 More Than You Know Axwell /\\ Ingrosso\n",
      "54 One Dance Drake\n",
      "55 SUBEME LA RADIO Enrique Iglesias\n",
      "56 Pretty Girl - Cheat Codes X CADE Remix Maggie Lindemann\n",
      "57 Sorry Not Sorry Demi Lovato\n",
      "58 Redbone Childish Gambino\n",
      "59 24K Magic Bruno Mars\n",
      "60 DNA. Kendrick Lamar\n",
      "61 El Amante Nicky Jam\n",
      "62 You Don't Know Me - Radio Edit Jax Jones\n",
      "63 Chained To The Rhythm Katy Perry\n",
      "64 No Promises (feat. Demi Lovato) Cheat Codes\n",
      "65 Don't Wanna Know (feat. Kendrick Lamar) Maroon 5\n",
      "66 How Far I'll Go - From \"Moana\" Alessia Cara\n",
      "67 Slow Hands Niall Horan\n",
      "68 Escápate Conmigo Wisin\n",
      "69 Bounce Back Big Sean\n",
      "70 Sign of the Times Harry Styles\n",
      "71 goosebumps Travis Scott\n",
      "72 Young Dumb & Broke Khalid\n",
      "73 There for You Martin Garrix\n",
      "74 Cold (feat. Future) Maroon 5\n",
      "75 Silence Marshmello\n",
      "76 Too Good At Goodbyes Sam Smith\n",
      "77 Just Hold On Steve Aoki\n",
      "78 Look What You Made Me Do Taylor Swift\n",
      "79 Glorious (feat. Skylar Grey) Macklemore\n",
      "80 Starving Hailee Steinfeld\n",
      "81 Reggaetón Lento (Bailemos) CNCO\n",
      "82 Weak AJR\n",
      "83 Side To Side Ariana Grande\n",
      "84 Otra Vez (feat. J Balvin) Zion & Lennox\n",
      "85 I Like Me Better Lauv\n",
      "86 In the Name of Love Martin Garrix\n",
      "87 Cold Water (feat. Justin Bieber & MØ) Major Lazer\n",
      "88 Malibu Miley Cyrus\n",
      "89 All Night The Vamps\n",
      "90 Hear Me Now Alok\n",
      "91 Your Song Rita Ora\n",
      "92 Ahora Dice Chris Jeday\n",
      "93 Friends (with BloodPop®) Justin Bieber\n",
      "94 Bank Account 21 Savage\n",
      "95 Bad Things (with Camila Cabello) Machine Gun Kelly\n",
      "96 Don't Let Me Down The Chainsmokers\n",
      "97 Body Like A Back Road Sam Hunt\n",
      "98 Now Or Never Halsey\n",
      "99 Dusk Till Dawn - Radio Edit ZAYN\n",
      "CPU times: user 3.42 s, sys: 288 ms, total: 3.71 s\n",
      "Wall time: 1min 33s\n"
     ]
    }
   ],
   "source": [
    "%%time\n",
    "# use iterrows to iterate, it's a kind of enumerate\n",
    "for index, row in tracks_df.iterrows():\n",
    "    print(index, row['name'], row['artists'])\n",
    "    lyrics = fetch_lyrics(row['artists'], row['name'])\n",
    "    # print(lyrics[0:10])\n",
    "    tracks_df.loc[index, 'lyrics'] = lyrics"
   ]
  },
  {
   "cell_type": "code",
   "execution_count": 9,
   "id": "9a50705a-5915-4c5c-8920-3f4e82c6ec7e",
   "metadata": {},
   "outputs": [
    {
     "data": {
      "text/html": [
       "<div>\n",
       "<style scoped>\n",
       "    .dataframe tbody tr th:only-of-type {\n",
       "        vertical-align: middle;\n",
       "    }\n",
       "\n",
       "    .dataframe tbody tr th {\n",
       "        vertical-align: top;\n",
       "    }\n",
       "\n",
       "    .dataframe thead th {\n",
       "        text-align: right;\n",
       "    }\n",
       "</style>\n",
       "<table border=\"1\" class=\"dataframe\">\n",
       "  <thead>\n",
       "    <tr style=\"text-align: right;\">\n",
       "      <th></th>\n",
       "      <th>id</th>\n",
       "      <th>name</th>\n",
       "      <th>artists</th>\n",
       "      <th>danceability</th>\n",
       "      <th>energy</th>\n",
       "      <th>key</th>\n",
       "      <th>loudness</th>\n",
       "      <th>mode</th>\n",
       "      <th>speechiness</th>\n",
       "      <th>acousticness</th>\n",
       "      <th>instrumentalness</th>\n",
       "      <th>liveness</th>\n",
       "      <th>valence</th>\n",
       "      <th>tempo</th>\n",
       "      <th>duration_ms</th>\n",
       "      <th>time_signature</th>\n",
       "      <th>lyrics</th>\n",
       "    </tr>\n",
       "  </thead>\n",
       "  <tbody>\n",
       "    <tr>\n",
       "      <th>0</th>\n",
       "      <td>7qiZfU4dY1lWllzX7mPBI</td>\n",
       "      <td>Shape of You</td>\n",
       "      <td>Ed Sheeran</td>\n",
       "      <td>0.825</td>\n",
       "      <td>0.652</td>\n",
       "      <td>1.0</td>\n",
       "      <td>-3.183</td>\n",
       "      <td>0.0</td>\n",
       "      <td>0.0802</td>\n",
       "      <td>0.5810</td>\n",
       "      <td>0.000000</td>\n",
       "      <td>0.0931</td>\n",
       "      <td>0.931</td>\n",
       "      <td>95.977</td>\n",
       "      <td>233713.0</td>\n",
       "      <td>4.0</td>\n",
       "      <td>The club isn't the best place to find a lover\\...</td>\n",
       "    </tr>\n",
       "    <tr>\n",
       "      <th>1</th>\n",
       "      <td>5CtI0qwDJkDQGwXD1H1cL</td>\n",
       "      <td>Despacito - Remix</td>\n",
       "      <td>Luis Fonsi</td>\n",
       "      <td>0.694</td>\n",
       "      <td>0.815</td>\n",
       "      <td>2.0</td>\n",
       "      <td>-4.328</td>\n",
       "      <td>1.0</td>\n",
       "      <td>0.1200</td>\n",
       "      <td>0.2290</td>\n",
       "      <td>0.000000</td>\n",
       "      <td>0.0924</td>\n",
       "      <td>0.813</td>\n",
       "      <td>88.931</td>\n",
       "      <td>228827.0</td>\n",
       "      <td>4.0</td>\n",
       "      <td>No Data</td>\n",
       "    </tr>\n",
       "    <tr>\n",
       "      <th>2</th>\n",
       "      <td>4aWmUDTfIPGksMNLV2rQP</td>\n",
       "      <td>Despacito (Featuring Daddy Yankee)</td>\n",
       "      <td>Luis Fonsi</td>\n",
       "      <td>0.660</td>\n",
       "      <td>0.786</td>\n",
       "      <td>2.0</td>\n",
       "      <td>-4.757</td>\n",
       "      <td>1.0</td>\n",
       "      <td>0.1700</td>\n",
       "      <td>0.2090</td>\n",
       "      <td>0.000000</td>\n",
       "      <td>0.1120</td>\n",
       "      <td>0.846</td>\n",
       "      <td>177.833</td>\n",
       "      <td>228200.0</td>\n",
       "      <td>4.0</td>\n",
       "      <td>No Data</td>\n",
       "    </tr>\n",
       "    <tr>\n",
       "      <th>3</th>\n",
       "      <td>6RUKPb4LETWmmr3iAEQkt</td>\n",
       "      <td>Something Just Like This</td>\n",
       "      <td>The Chainsmokers</td>\n",
       "      <td>0.617</td>\n",
       "      <td>0.635</td>\n",
       "      <td>11.0</td>\n",
       "      <td>-6.769</td>\n",
       "      <td>0.0</td>\n",
       "      <td>0.0317</td>\n",
       "      <td>0.0498</td>\n",
       "      <td>0.000014</td>\n",
       "      <td>0.1640</td>\n",
       "      <td>0.446</td>\n",
       "      <td>103.019</td>\n",
       "      <td>247160.0</td>\n",
       "      <td>4.0</td>\n",
       "      <td>I've been reading books of old\\nThe legends an...</td>\n",
       "    </tr>\n",
       "    <tr>\n",
       "      <th>4</th>\n",
       "      <td>3DXncPQOG4VBw3QHh3S81</td>\n",
       "      <td>I'm the One</td>\n",
       "      <td>DJ Khaled</td>\n",
       "      <td>0.609</td>\n",
       "      <td>0.668</td>\n",
       "      <td>7.0</td>\n",
       "      <td>-4.284</td>\n",
       "      <td>1.0</td>\n",
       "      <td>0.0367</td>\n",
       "      <td>0.0552</td>\n",
       "      <td>0.000000</td>\n",
       "      <td>0.1670</td>\n",
       "      <td>0.811</td>\n",
       "      <td>80.924</td>\n",
       "      <td>288600.0</td>\n",
       "      <td>4.0</td>\n",
       "      <td>[DJ Khaled:]\\nWe The Best Music\\nAnother One!\\...</td>\n",
       "    </tr>\n",
       "  </tbody>\n",
       "</table>\n",
       "</div>"
      ],
      "text/plain": [
       "                      id                                name  \\\n",
       "0  7qiZfU4dY1lWllzX7mPBI                        Shape of You   \n",
       "1  5CtI0qwDJkDQGwXD1H1cL                   Despacito - Remix   \n",
       "2  4aWmUDTfIPGksMNLV2rQP  Despacito (Featuring Daddy Yankee)   \n",
       "3  6RUKPb4LETWmmr3iAEQkt            Something Just Like This   \n",
       "4  3DXncPQOG4VBw3QHh3S81                         I'm the One   \n",
       "\n",
       "            artists  danceability  energy   key  loudness  mode  speechiness  \\\n",
       "0        Ed Sheeran         0.825   0.652   1.0    -3.183   0.0       0.0802   \n",
       "1        Luis Fonsi         0.694   0.815   2.0    -4.328   1.0       0.1200   \n",
       "2        Luis Fonsi         0.660   0.786   2.0    -4.757   1.0       0.1700   \n",
       "3  The Chainsmokers         0.617   0.635  11.0    -6.769   0.0       0.0317   \n",
       "4         DJ Khaled         0.609   0.668   7.0    -4.284   1.0       0.0367   \n",
       "\n",
       "   acousticness  instrumentalness  liveness  valence    tempo  duration_ms  \\\n",
       "0        0.5810          0.000000    0.0931    0.931   95.977     233713.0   \n",
       "1        0.2290          0.000000    0.0924    0.813   88.931     228827.0   \n",
       "2        0.2090          0.000000    0.1120    0.846  177.833     228200.0   \n",
       "3        0.0498          0.000014    0.1640    0.446  103.019     247160.0   \n",
       "4        0.0552          0.000000    0.1670    0.811   80.924     288600.0   \n",
       "\n",
       "   time_signature                                             lyrics  \n",
       "0             4.0  The club isn't the best place to find a lover\\...  \n",
       "1             4.0                                            No Data  \n",
       "2             4.0                                            No Data  \n",
       "3             4.0  I've been reading books of old\\nThe legends an...  \n",
       "4             4.0  [DJ Khaled:]\\nWe The Best Music\\nAnother One!\\...  "
      ]
     },
     "execution_count": 9,
     "metadata": {},
     "output_type": "execute_result"
    }
   ],
   "source": [
    "tracks_df.head()"
   ]
  },
  {
   "cell_type": "markdown",
   "id": "640747fd-a85d-443c-be63-2a7a798f21e8",
   "metadata": {},
   "source": [
    "## 3️⃣ SQL"
   ]
  },
  {
   "cell_type": "code",
   "execution_count": 10,
   "id": "1f46851a-34d6-4561-92d9-515c5ec3dd3a",
   "metadata": {},
   "outputs": [],
   "source": [
    "import sqlite3\n",
    "\n",
    "conn = sqlite3.connect('data/music.sqlite')"
   ]
  },
  {
   "cell_type": "code",
   "execution_count": 11,
   "id": "6a3e321b-d042-4b56-861e-347061ccae6c",
   "metadata": {},
   "outputs": [],
   "source": [
    "# c = conn.cursor()"
   ]
  },
  {
   "cell_type": "code",
   "execution_count": 12,
   "id": "07e1095e-aa48-4cd0-952a-58e3bba7f529",
   "metadata": {},
   "outputs": [],
   "source": [
    "limit = 500000\n",
    "query = \"\"\"\n",
    "    SELECT ai.artist_mb, p.listeners_lastfm \n",
    "    FROM artist_info ai \n",
    "    JOIN popularity p ON ai.mbid = p.mbid\n",
    "    WHERE p.listeners_lastfm > ?\n",
    "\"\"\""
   ]
  },
  {
   "cell_type": "code",
   "execution_count": 13,
   "id": "c88e5471-a70d-48d4-a749-6e790f948cf6",
   "metadata": {},
   "outputs": [],
   "source": [
    "# c.execute(query, (limit,))\n",
    "# rows = c.fetchall()\n",
    "# rows[0:10]"
   ]
  },
  {
   "cell_type": "code",
   "execution_count": 14,
   "id": "d335d7c2-ff42-4339-8c7e-e5857588a101",
   "metadata": {},
   "outputs": [
    {
     "data": {
      "text/html": [
       "<div>\n",
       "<style scoped>\n",
       "    .dataframe tbody tr th:only-of-type {\n",
       "        vertical-align: middle;\n",
       "    }\n",
       "\n",
       "    .dataframe tbody tr th {\n",
       "        vertical-align: top;\n",
       "    }\n",
       "\n",
       "    .dataframe thead th {\n",
       "        text-align: right;\n",
       "    }\n",
       "</style>\n",
       "<table border=\"1\" class=\"dataframe\">\n",
       "  <thead>\n",
       "    <tr style=\"text-align: right;\">\n",
       "      <th></th>\n",
       "      <th>artist_mb</th>\n",
       "      <th>listeners_lastfm</th>\n",
       "    </tr>\n",
       "  </thead>\n",
       "  <tbody>\n",
       "    <tr>\n",
       "      <th>0</th>\n",
       "      <td>Coldplay</td>\n",
       "      <td>5381567.0</td>\n",
       "    </tr>\n",
       "    <tr>\n",
       "      <th>1</th>\n",
       "      <td>Radiohead</td>\n",
       "      <td>4732528.0</td>\n",
       "    </tr>\n",
       "    <tr>\n",
       "      <th>2</th>\n",
       "      <td>Red Hot Chili Peppers</td>\n",
       "      <td>4620835.0</td>\n",
       "    </tr>\n",
       "    <tr>\n",
       "      <th>3</th>\n",
       "      <td>Rihanna</td>\n",
       "      <td>4558193.0</td>\n",
       "    </tr>\n",
       "    <tr>\n",
       "      <th>4</th>\n",
       "      <td>Eminem</td>\n",
       "      <td>4517997.0</td>\n",
       "    </tr>\n",
       "  </tbody>\n",
       "</table>\n",
       "</div>"
      ],
      "text/plain": [
       "               artist_mb  listeners_lastfm\n",
       "0               Coldplay         5381567.0\n",
       "1              Radiohead         4732528.0\n",
       "2  Red Hot Chili Peppers         4620835.0\n",
       "3                Rihanna         4558193.0\n",
       "4                 Eminem         4517997.0"
      ]
     },
     "execution_count": 14,
     "metadata": {},
     "output_type": "execute_result"
    }
   ],
   "source": [
    "listens_df = pd.read_sql(query, conn, params=(limit,))\n",
    "listens_df.head()"
   ]
  },
  {
   "cell_type": "code",
   "execution_count": 15,
   "id": "9e7c15f0-3b39-41da-9006-1a336a54f79e",
   "metadata": {},
   "outputs": [],
   "source": [
    "tracks_df = tracks_df.merge(\n",
    "    listens_df,\n",
    "    left_on='artists',\n",
    "    right_on='artist_mb',\n",
    "    how='left'\n",
    ")"
   ]
  },
  {
   "cell_type": "code",
   "execution_count": 16,
   "id": "e614ea89-a932-420b-9e1c-e4471d089200",
   "metadata": {},
   "outputs": [
    {
     "data": {
      "text/html": [
       "<div>\n",
       "<style scoped>\n",
       "    .dataframe tbody tr th:only-of-type {\n",
       "        vertical-align: middle;\n",
       "    }\n",
       "\n",
       "    .dataframe tbody tr th {\n",
       "        vertical-align: top;\n",
       "    }\n",
       "\n",
       "    .dataframe thead th {\n",
       "        text-align: right;\n",
       "    }\n",
       "</style>\n",
       "<table border=\"1\" class=\"dataframe\">\n",
       "  <thead>\n",
       "    <tr style=\"text-align: right;\">\n",
       "      <th></th>\n",
       "      <th>id</th>\n",
       "      <th>name</th>\n",
       "      <th>artists</th>\n",
       "      <th>danceability</th>\n",
       "      <th>energy</th>\n",
       "      <th>key</th>\n",
       "      <th>loudness</th>\n",
       "      <th>mode</th>\n",
       "      <th>speechiness</th>\n",
       "      <th>acousticness</th>\n",
       "      <th>instrumentalness</th>\n",
       "      <th>liveness</th>\n",
       "      <th>valence</th>\n",
       "      <th>tempo</th>\n",
       "      <th>duration_ms</th>\n",
       "      <th>time_signature</th>\n",
       "      <th>lyrics</th>\n",
       "      <th>artist_mb</th>\n",
       "      <th>listeners_lastfm</th>\n",
       "    </tr>\n",
       "  </thead>\n",
       "  <tbody>\n",
       "    <tr>\n",
       "      <th>0</th>\n",
       "      <td>7qiZfU4dY1lWllzX7mPBI</td>\n",
       "      <td>Shape of You</td>\n",
       "      <td>Ed Sheeran</td>\n",
       "      <td>0.825</td>\n",
       "      <td>0.652</td>\n",
       "      <td>1.0</td>\n",
       "      <td>-3.183</td>\n",
       "      <td>0.0</td>\n",
       "      <td>0.0802</td>\n",
       "      <td>0.5810</td>\n",
       "      <td>0.000000</td>\n",
       "      <td>0.0931</td>\n",
       "      <td>0.931</td>\n",
       "      <td>95.977</td>\n",
       "      <td>233713.0</td>\n",
       "      <td>4.0</td>\n",
       "      <td>The club isn't the best place to find a lover\\...</td>\n",
       "      <td>Ed Sheeran</td>\n",
       "      <td>1620379.0</td>\n",
       "    </tr>\n",
       "    <tr>\n",
       "      <th>1</th>\n",
       "      <td>5CtI0qwDJkDQGwXD1H1cL</td>\n",
       "      <td>Despacito - Remix</td>\n",
       "      <td>Luis Fonsi</td>\n",
       "      <td>0.694</td>\n",
       "      <td>0.815</td>\n",
       "      <td>2.0</td>\n",
       "      <td>-4.328</td>\n",
       "      <td>1.0</td>\n",
       "      <td>0.1200</td>\n",
       "      <td>0.2290</td>\n",
       "      <td>0.000000</td>\n",
       "      <td>0.0924</td>\n",
       "      <td>0.813</td>\n",
       "      <td>88.931</td>\n",
       "      <td>228827.0</td>\n",
       "      <td>4.0</td>\n",
       "      <td>No Data</td>\n",
       "      <td>NaN</td>\n",
       "      <td>NaN</td>\n",
       "    </tr>\n",
       "    <tr>\n",
       "      <th>2</th>\n",
       "      <td>4aWmUDTfIPGksMNLV2rQP</td>\n",
       "      <td>Despacito (Featuring Daddy Yankee)</td>\n",
       "      <td>Luis Fonsi</td>\n",
       "      <td>0.660</td>\n",
       "      <td>0.786</td>\n",
       "      <td>2.0</td>\n",
       "      <td>-4.757</td>\n",
       "      <td>1.0</td>\n",
       "      <td>0.1700</td>\n",
       "      <td>0.2090</td>\n",
       "      <td>0.000000</td>\n",
       "      <td>0.1120</td>\n",
       "      <td>0.846</td>\n",
       "      <td>177.833</td>\n",
       "      <td>228200.0</td>\n",
       "      <td>4.0</td>\n",
       "      <td>No Data</td>\n",
       "      <td>NaN</td>\n",
       "      <td>NaN</td>\n",
       "    </tr>\n",
       "    <tr>\n",
       "      <th>3</th>\n",
       "      <td>6RUKPb4LETWmmr3iAEQkt</td>\n",
       "      <td>Something Just Like This</td>\n",
       "      <td>The Chainsmokers</td>\n",
       "      <td>0.617</td>\n",
       "      <td>0.635</td>\n",
       "      <td>11.0</td>\n",
       "      <td>-6.769</td>\n",
       "      <td>0.0</td>\n",
       "      <td>0.0317</td>\n",
       "      <td>0.0498</td>\n",
       "      <td>0.000014</td>\n",
       "      <td>0.1640</td>\n",
       "      <td>0.446</td>\n",
       "      <td>103.019</td>\n",
       "      <td>247160.0</td>\n",
       "      <td>4.0</td>\n",
       "      <td>I've been reading books of old\\nThe legends an...</td>\n",
       "      <td>The Chainsmokers</td>\n",
       "      <td>794664.0</td>\n",
       "    </tr>\n",
       "    <tr>\n",
       "      <th>4</th>\n",
       "      <td>3DXncPQOG4VBw3QHh3S81</td>\n",
       "      <td>I'm the One</td>\n",
       "      <td>DJ Khaled</td>\n",
       "      <td>0.609</td>\n",
       "      <td>0.668</td>\n",
       "      <td>7.0</td>\n",
       "      <td>-4.284</td>\n",
       "      <td>1.0</td>\n",
       "      <td>0.0367</td>\n",
       "      <td>0.0552</td>\n",
       "      <td>0.000000</td>\n",
       "      <td>0.1670</td>\n",
       "      <td>0.811</td>\n",
       "      <td>80.924</td>\n",
       "      <td>288600.0</td>\n",
       "      <td>4.0</td>\n",
       "      <td>[DJ Khaled:]\\nWe The Best Music\\nAnother One!\\...</td>\n",
       "      <td>DJ Khaled</td>\n",
       "      <td>1160535.0</td>\n",
       "    </tr>\n",
       "  </tbody>\n",
       "</table>\n",
       "</div>"
      ],
      "text/plain": [
       "                      id                                name  \\\n",
       "0  7qiZfU4dY1lWllzX7mPBI                        Shape of You   \n",
       "1  5CtI0qwDJkDQGwXD1H1cL                   Despacito - Remix   \n",
       "2  4aWmUDTfIPGksMNLV2rQP  Despacito (Featuring Daddy Yankee)   \n",
       "3  6RUKPb4LETWmmr3iAEQkt            Something Just Like This   \n",
       "4  3DXncPQOG4VBw3QHh3S81                         I'm the One   \n",
       "\n",
       "            artists  danceability  energy   key  loudness  mode  speechiness  \\\n",
       "0        Ed Sheeran         0.825   0.652   1.0    -3.183   0.0       0.0802   \n",
       "1        Luis Fonsi         0.694   0.815   2.0    -4.328   1.0       0.1200   \n",
       "2        Luis Fonsi         0.660   0.786   2.0    -4.757   1.0       0.1700   \n",
       "3  The Chainsmokers         0.617   0.635  11.0    -6.769   0.0       0.0317   \n",
       "4         DJ Khaled         0.609   0.668   7.0    -4.284   1.0       0.0367   \n",
       "\n",
       "   acousticness  instrumentalness  liveness  valence    tempo  duration_ms  \\\n",
       "0        0.5810          0.000000    0.0931    0.931   95.977     233713.0   \n",
       "1        0.2290          0.000000    0.0924    0.813   88.931     228827.0   \n",
       "2        0.2090          0.000000    0.1120    0.846  177.833     228200.0   \n",
       "3        0.0498          0.000014    0.1640    0.446  103.019     247160.0   \n",
       "4        0.0552          0.000000    0.1670    0.811   80.924     288600.0   \n",
       "\n",
       "   time_signature                                             lyrics  \\\n",
       "0             4.0  The club isn't the best place to find a lover\\...   \n",
       "1             4.0                                            No Data   \n",
       "2             4.0                                            No Data   \n",
       "3             4.0  I've been reading books of old\\nThe legends an...   \n",
       "4             4.0  [DJ Khaled:]\\nWe The Best Music\\nAnother One!\\...   \n",
       "\n",
       "          artist_mb  listeners_lastfm  \n",
       "0        Ed Sheeran         1620379.0  \n",
       "1               NaN               NaN  \n",
       "2               NaN               NaN  \n",
       "3  The Chainsmokers          794664.0  \n",
       "4         DJ Khaled         1160535.0  "
      ]
     },
     "execution_count": 16,
     "metadata": {},
     "output_type": "execute_result"
    }
   ],
   "source": [
    "tracks_df.head()"
   ]
  },
  {
   "cell_type": "markdown",
   "id": "b713b5e7-faca-4059-949e-0c0bcb4c9322",
   "metadata": {},
   "source": [
    "## 4️⃣ Google BigQuery"
   ]
  },
  {
   "cell_type": "code",
   "execution_count": null,
   "id": "c79bb5f5-b715-49d0-ba23-1f052f5ba4d7",
   "metadata": {},
   "outputs": [],
   "source": [
    "!pip install --quiet pandas-gbq"
   ]
  },
  {
   "cell_type": "code",
   "execution_count": null,
   "id": "c97ff53c-73ec-470a-a6e0-cde3705b328c",
   "metadata": {},
   "outputs": [],
   "source": [
    "import pandas_gbq"
   ]
  },
  {
   "cell_type": "code",
   "execution_count": null,
   "id": "7d08cc29-f5cd-4162-b1c0-577b9c0594c4",
   "metadata": {},
   "outputs": [],
   "source": [
    "project_id = 'lwt-data-lectures' # TODO: replace with your own!\n",
    "\n",
    "sql = \"\"\"\n",
    "SELECT artist_name, COUNT(artist_name) FROM `listenbrainz.listenbrainz.listen` \n",
    "WHERE listened_at BETWEEN \"2017-01-01\" AND \"2018-01-01\"\n",
    "GROUP BY artist_name\n",
    "HAVING COUNT(artist_name) > 1000\n",
    "ORDER BY COUNT(artist_name) DESC\n",
    "\"\"\"\n",
    "music_brainz_df = pandas_gbq.read_gbq(sql, project_id=project_id)"
   ]
  },
  {
   "cell_type": "code",
   "execution_count": null,
   "id": "a3099f97-11bf-42ef-970d-7523c236cf68",
   "metadata": {},
   "outputs": [],
   "source": [
    "music_brainz_df"
   ]
  },
  {
   "cell_type": "code",
   "execution_count": null,
   "id": "cb7b19ee-4e64-441c-b582-84ff1191960f",
   "metadata": {},
   "outputs": [],
   "source": [
    "music_brainz_df.columns = [\"artists\", \"music_brainz_plays\"]"
   ]
  },
  {
   "cell_type": "code",
   "execution_count": null,
   "id": "6b35f9c8-00ad-4419-b78e-d666ca881682",
   "metadata": {},
   "outputs": [],
   "source": [
    "music_brainz_df.head()"
   ]
  },
  {
   "cell_type": "code",
   "execution_count": null,
   "id": "9ec23a85-4593-4ad3-9bf2-39a614b1aebf",
   "metadata": {},
   "outputs": [],
   "source": [
    "tracks_df = tracks_df.merge(\n",
    "    music_brainz_df,\n",
    "    on='artists',\n",
    "    how='left'\n",
    ")"
   ]
  },
  {
   "cell_type": "code",
   "execution_count": null,
   "id": "a1dc03c5-0f22-4fb5-84b7-ffcdf8fb39ed",
   "metadata": {},
   "outputs": [],
   "source": [
    "tracks_df.head()"
   ]
  },
  {
   "cell_type": "markdown",
   "id": "81dcd944-62df-4afe-b12b-9e71d120fc04",
   "metadata": {},
   "source": [
    "## 5️⃣ Scraping"
   ]
  },
  {
   "cell_type": "code",
   "execution_count": null,
   "id": "bfcc233f-d858-48d4-966a-c1cdd799b381",
   "metadata": {},
   "outputs": [],
   "source": [
    "from bs4 import BeautifulSoup\n",
    "import re\n",
    "import requests"
   ]
  },
  {
   "cell_type": "code",
   "execution_count": null,
   "id": "c186a362-2142-4c31-86aa-2c8029ecb9fa",
   "metadata": {},
   "outputs": [],
   "source": [
    "def scrape_bday(artist):\n",
    "    artist = artist.replace(\" \", \"_\")\n",
    "    url = f'https://en.wikipedia.org/wiki/{artist}'\n",
    "    try:\n",
    "        response = requests.get(url)\n",
    "        raw_html = response.content\n",
    "        soup = BeautifulSoup(raw_html, 'html.parser')\n",
    "        bday = soup.find('span', class_='bday').text\n",
    "        return bday\n",
    "    except:\n",
    "        return 'Inconclusive'"
   ]
  },
  {
   "cell_type": "code",
   "execution_count": null,
   "id": "313fbd6d-48d3-4ef7-9f9d-b0b10428966d",
   "metadata": {},
   "outputs": [],
   "source": [
    "scrape_bday(\"Ed Sheera\")"
   ]
  },
  {
   "cell_type": "code",
   "execution_count": null,
   "id": "0972f061-ee9c-4207-9a99-27a4789ac936",
   "metadata": {},
   "outputs": [],
   "source": [
    "scrape_bday(\"Ed Sheeran\")"
   ]
  },
  {
   "cell_type": "code",
   "execution_count": null,
   "id": "8af50f29-9bfe-4e66-98cf-43497ea122b1",
   "metadata": {},
   "outputs": [],
   "source": [
    "artists_list = list(set(tracks_df[\"artists\"].tolist()))\n",
    "len(artists_list)"
   ]
  },
  {
   "cell_type": "code",
   "execution_count": null,
   "id": "cc4490e0-736b-434e-9243-4b2f1fe45206",
   "metadata": {},
   "outputs": [],
   "source": [
    "birthdays = []\n",
    "for artist in artists_list:\n",
    "    birthday = scrape_bday(artist)\n",
    "    birthdays.append(birthday) "
   ]
  },
  {
   "cell_type": "code",
   "execution_count": null,
   "id": "9fe184e6-35ab-4543-82e4-5715dcd22482",
   "metadata": {},
   "outputs": [],
   "source": [
    "birthdays[0:10]"
   ]
  },
  {
   "cell_type": "code",
   "execution_count": null,
   "id": "f3d561fc-4294-4aca-90fb-b8215d91c48a",
   "metadata": {},
   "outputs": [],
   "source": [
    "birthdays_df = pd.DataFrame({\"artists\": artists_list,\n",
    "                            \"birthday\": birthdays})"
   ]
  },
  {
   "cell_type": "code",
   "execution_count": null,
   "id": "c6fef5c0-6da7-4b61-b32a-87e60bec5a28",
   "metadata": {},
   "outputs": [],
   "source": [
    "birthdays_df.head()"
   ]
  },
  {
   "cell_type": "code",
   "execution_count": null,
   "id": "08574665-ae06-4e0f-ae84-74fb464b650f",
   "metadata": {},
   "outputs": [],
   "source": [
    "tracks_df = tracks_df.merge(\n",
    "    birthdays_df,\n",
    "    on='artists',\n",
    "    how='left'\n",
    ")"
   ]
  },
  {
   "cell_type": "code",
   "execution_count": null,
   "id": "82ba8d1e-1754-406b-9919-1db0fa325db2",
   "metadata": {},
   "outputs": [],
   "source": [
    "tracks_df.head()"
   ]
  },
  {
   "cell_type": "code",
   "execution_count": null,
   "id": "501af00f-d040-4c1a-becc-531a831154fa",
   "metadata": {},
   "outputs": [],
   "source": [
    "tracks_df[\"music_brainz_plays\"].hist(bins = 20);"
   ]
  },
  {
   "cell_type": "code",
   "execution_count": null,
   "id": "62e301dd-ae3d-4fd0-8d08-7dbb57f071d3",
   "metadata": {},
   "outputs": [],
   "source": [
    "tracks_df[\"listeners_lastfm\"].hist(bins = 20);"
   ]
  },
  {
   "cell_type": "code",
   "execution_count": null,
   "id": "79b585ef-b851-4070-a5f0-19d2d76731bc",
   "metadata": {},
   "outputs": [],
   "source": [
    "import re\n",
    "pattern = r'\\d{4}-\\d{2}-\\d{2}'\n",
    "# Find only the rows that have valid birthdays\n",
    "only_bdays = tracks_df[tracks_df[\"birthday\"].str.match(pattern)].copy()\n",
    "# Convert to a datetime format\n",
    "tracks_df[\"birthday\"] = pd.to_datetime(only_bdays[\"birthday\"])"
   ]
  },
  {
   "cell_type": "code",
   "execution_count": null,
   "id": "32b64612-fbf9-4bc2-b2d5-087ca3dd95ab",
   "metadata": {},
   "outputs": [],
   "source": [
    "tracks_df.plot.scatter(\"birthday\", \"listeners_lastfm\")\n"
   ]
  }
 ],
 "metadata": {
  "kernelspec": {
   "display_name": "Python 3 (ipykernel)",
   "language": "python",
   "name": "python3"
  },
  "language_info": {
   "codemirror_mode": {
    "name": "ipython",
    "version": 3
   },
   "file_extension": ".py",
   "mimetype": "text/x-python",
   "name": "python",
   "nbconvert_exporter": "python",
   "pygments_lexer": "ipython3",
   "version": "3.8.12"
  }
 },
 "nbformat": 4,
 "nbformat_minor": 5
}
